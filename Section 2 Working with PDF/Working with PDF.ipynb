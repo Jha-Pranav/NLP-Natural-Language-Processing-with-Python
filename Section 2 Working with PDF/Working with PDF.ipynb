{
 "cells": [
  {
   "cell_type": "code",
   "execution_count": 46,
   "metadata": {},
   "outputs": [],
   "source": [
    "import PyPDF2"
   ]
  },
  {
   "cell_type": "code",
   "execution_count": 47,
   "metadata": {},
   "outputs": [],
   "source": [
    "myfile = open('Gandhi my experiments with truth.pdf', 'rb')"
   ]
  },
  {
   "cell_type": "code",
   "execution_count": 48,
   "metadata": {},
   "outputs": [],
   "source": [
    "read_pdf = PyPDF2.PdfFileReader(myfile)"
   ]
  },
  {
   "cell_type": "code",
   "execution_count": 49,
   "metadata": {},
   "outputs": [],
   "source": [
    "myfile_page = read_pdf.getPage(5)"
   ]
  },
  {
   "cell_type": "code",
   "execution_count": 50,
   "metadata": {},
   "outputs": [],
   "source": [
    "pdf_writer = PyPDF2.PdfFileWriter()"
   ]
  },
  {
   "cell_type": "code",
   "execution_count": 51,
   "metadata": {},
   "outputs": [],
   "source": [
    "pdf_writer.addPage(myfile_page)"
   ]
  },
  {
   "cell_type": "code",
   "execution_count": 52,
   "metadata": {},
   "outputs": [],
   "source": [
    "new_file = open('My_Brand_New_File.pdf', 'wb')"
   ]
  },
  {
   "cell_type": "code",
   "execution_count": 53,
   "metadata": {},
   "outputs": [],
   "source": [
    "pdf_writer.write(new_file)"
   ]
  },
  {
   "cell_type": "code",
   "execution_count": 54,
   "metadata": {},
   "outputs": [],
   "source": [
    "myfile.close()"
   ]
  },
  {
   "cell_type": "code",
   "execution_count": 55,
   "metadata": {},
   "outputs": [],
   "source": [
    "new_file.close()"
   ]
  },
  {
   "cell_type": "code",
   "execution_count": 56,
   "metadata": {},
   "outputs": [],
   "source": [
    "read_new_file = open('My_Brand_New_File.pdf', 'rb')"
   ]
  },
  {
   "cell_type": "code",
   "execution_count": 57,
   "metadata": {},
   "outputs": [],
   "source": [
    "pdf_reader_obj = PyPDF2.PdfFileReader(read_new_file)"
   ]
  },
  {
   "cell_type": "code",
   "execution_count": 59,
   "metadata": {},
   "outputs": [
    {
     "data": {
      "text/plain": [
       "\"memory. I can picture to myself, even today, how we sat on our wedding dais, how we performed \\nthe Saptapadi how we, the newly wedded husband and wife, put the sweet \\nKansar\\n into each \\nother's mouth, and how we began to live together. And oh! that first night.Two innocent children \\n\\nall unwittingly hurled themselves into the ocean of life. My brother's wife had thoroughly coached \\nme about my behaviour on the first night. I do not know who had coached my wife. I have never \\n\\nasked her about it, nor am I inclined to do so now. The reader may be sure that we were too \\n\\nnervous to face each other. We were certainly too shy. How was I to talk to her, and what was I to \\n\\nsay? The coaching could not carry me far. But no coaching is really necessary in such matters. \\n\\nThe impressions of the former birth are potent enough to make all coaching superfluous. We \\ngradually began to know each other, and to speak freely together. We were the same age. but I \\ntook no time in assuming the authority of a husband. \\n   Chapter 4 PLAYING THE HUSBAND\\n  About the time of my marriage, little pamphlets co\\nsting a pice, or a pie (I now forget how \\nmuch), used to be issued, in which conjugal love, thrift, child marriages, and other such subjects \\n\\nwere discussed. Whenever I came across any of these, I used to go through them cover to cover, \\n\\nand it was a habit with me to forget what I did not like, and to carry out in practice whatever I \\nliked. Lifelong faithfulness to the wife, inculcated in these booklets as the duty of the husband, \\nremained permanently imprinted on my heart. Furthermore, the passion for truth was innate in \\n\\nme, and to be false to her was therefore out of the question. And then there was very little chance \\nof my being faithless at that tender age. \\n But the lesson of faithfulness had also untoward effect. 'If I should be pledged to be faithful to my \\nwife, she also should be pledged to be faithful to me,' I said to myself. The thought made me a \\n\\njealous husband. Her duty was easily converted into my right to exact faithfulness from her, and if \\nit had to be exacted, I should be watchfully tenacious of the right. I had absolutely no reason to \\nsuspect my wife's fidelity, but jealousy does not wait for reasons. I must needs be for ever on the \\n\\nlook-out regarding her movements, and therefore she could not go anywhere without my \\n\\npermission. This sowed the seeds of a bitter quarrel between us. The restraint was virtually a sort \\n\\nof imprisonment. And Kasturbai was not the girl to brook any such thing. She made it a point to \\ngo out whenever and wherever she liked. More restraint on my part resulted in more liberty being \\ntaken by her, and in my getting more and more cross. Refusal to speak to one another thus \\n\\nbecame the order of the day with us, married children. I think it was quite innocent of Kasturbai to \\n\\nhave taken those liberties with my restrictions. How could a guileless girl brook any restraint on \\n\\ngoing to the temple or on going on visits to friends? If I had the right to impose restrictions on her, \\nhad not she also a similar right? All this is clear to me today. But at that time I had to make good \\nmy authority as a husband! \\n Let not the reader think, however, that ours was a life of unrelieved bitterness. For my severities \\nwere all based on love. I wanted to \\nmake\\n my wife an ideal wife. My ambition was to \\nmake\\n her live \\na pure life, learn what I learnt,and identify her life and thought with mine. \\n I do not know whether Kasturbai had any such ambition. She was illiterate. By nature she was \\nsimple, independent, persevering and, with me at least, reticent. She was not impatient of her \\n\\nignorance and I do not recollect my studies having ever spurred her to go in for a similar \\n\\nadventure. I fancy, therefore, that my ambition was all one- sided. My passion was entirely \\n\""
      ]
     },
     "execution_count": 59,
     "metadata": {},
     "output_type": "execute_result"
    }
   ],
   "source": [
    "pdf_reader_obj.getPage(0).extractText()"
   ]
  },
  {
   "cell_type": "code",
   "execution_count": null,
   "metadata": {},
   "outputs": [],
   "source": []
  }
 ],
 "metadata": {
  "kernelspec": {
   "display_name": "Python 3",
   "language": "python",
   "name": "python3"
  },
  "language_info": {
   "codemirror_mode": {
    "name": "ipython",
    "version": 3
   },
   "file_extension": ".py",
   "mimetype": "text/x-python",
   "name": "python",
   "nbconvert_exporter": "python",
   "pygments_lexer": "ipython3",
   "version": "3.7.3"
  }
 },
 "nbformat": 4,
 "nbformat_minor": 2
}
