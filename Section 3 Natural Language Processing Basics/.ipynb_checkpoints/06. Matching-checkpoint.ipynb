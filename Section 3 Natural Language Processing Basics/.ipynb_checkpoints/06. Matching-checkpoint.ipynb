{
 "cells": [
  {
   "cell_type": "code",
   "execution_count": 1,
   "metadata": {},
   "outputs": [],
   "source": [
    "import spacy"
   ]
  },
  {
   "cell_type": "code",
   "execution_count": 2,
   "metadata": {},
   "outputs": [],
   "source": [
    "nlp = spacy.load('en_core_web_sm')"
   ]
  },
  {
   "cell_type": "code",
   "execution_count": 46,
   "metadata": {},
   "outputs": [],
   "source": [
    "# Rule base matching\n",
    "from spacy.matcher import Matcher\n"
   ]
  },
  {
   "cell_type": "code",
   "execution_count": 11,
   "metadata": {},
   "outputs": [],
   "source": [
    "mather = Matcher(nlp.vocab)"
   ]
  },
  {
   "cell_type": "code",
   "execution_count": 41,
   "metadata": {},
   "outputs": [],
   "source": [
    "doc = nlp(u'SolarPower industry continues to grow as solar-power increas. Solar power is awsome. Yeah! Solar---Power')\n"
   ]
  },
  {
   "cell_type": "code",
   "execution_count": 42,
   "metadata": {},
   "outputs": [],
   "source": [
    "# SolarPower\n",
    "# solar-power\n",
    "# solar power\n",
    "pattern1 = [{'LOWER':\"solarpower\"}]\n",
    "pattern2 = [{'LOWER':\"solar\"},{'IS_PUNCT':True,'OP':'*'},{'LOWER':\"power\"}]\n",
    "pattern3 = [{'LOWER':\"solar\"},{'LOWER':\"power\"}]"
   ]
  },
  {
   "cell_type": "code",
   "execution_count": 43,
   "metadata": {},
   "outputs": [],
   "source": [
    "mather.add('SolarPower',None,pattern1,pattern2,pattern3)\n",
    "found_match = mather(doc)"
   ]
  },
  {
   "cell_type": "code",
   "execution_count": 44,
   "metadata": {},
   "outputs": [
    {
     "name": "stdout",
     "output_type": "stream",
     "text": [
      "[(8656102463236116519, 0, 1), (8656102463236116519, 6, 9), (8656102463236116519, 11, 13), (8656102463236116519, 18, 21)]\n"
     ]
    }
   ],
   "source": [
    "print(found_match)"
   ]
  },
  {
   "cell_type": "code",
   "execution_count": 45,
   "metadata": {},
   "outputs": [
    {
     "name": "stdout",
     "output_type": "stream",
     "text": [
      "8656102463236116519 \t SolarPower \t SolarPower\n",
      "8656102463236116519 \t SolarPower \t solar-power\n",
      "8656102463236116519 \t SolarPower \t Solar power\n",
      "8656102463236116519 \t SolarPower \t Solar---Power\n"
     ]
    }
   ],
   "source": [
    "for match_id, start, end in found_match:\n",
    "    print(match_id,'\\t',nlp.vocab.strings[match_id],'\\t',doc[start:end])"
   ]
  },
  {
   "cell_type": "code",
   "execution_count": null,
   "metadata": {},
   "outputs": [],
   "source": []
  }
 ],
 "metadata": {
  "kernelspec": {
   "display_name": "Python 3",
   "language": "python",
   "name": "python3"
  },
  "language_info": {
   "codemirror_mode": {
    "name": "ipython",
    "version": 3
   },
   "file_extension": ".py",
   "mimetype": "text/x-python",
   "name": "python",
   "nbconvert_exporter": "python",
   "pygments_lexer": "ipython3",
   "version": "3.7.3"
  }
 },
 "nbformat": 4,
 "nbformat_minor": 2
}
