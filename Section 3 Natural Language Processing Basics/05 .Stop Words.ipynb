{
 "cells": [
  {
   "cell_type": "code",
   "execution_count": 1,
   "metadata": {},
   "outputs": [],
   "source": [
    "# The words like \"a\" , \"the\" are stop words"
   ]
  },
  {
   "cell_type": "code",
   "execution_count": 2,
   "metadata": {},
   "outputs": [],
   "source": [
    "import spacy"
   ]
  },
  {
   "cell_type": "code",
   "execution_count": 3,
   "metadata": {},
   "outputs": [],
   "source": [
    "nlp = spacy.load('en_core_web_sm')"
   ]
  },
  {
   "cell_type": "code",
   "execution_count": 4,
   "metadata": {},
   "outputs": [
    {
     "name": "stdout",
     "output_type": "stream",
     "text": [
      "{'besides', 'just', 'whence', 'serious', 'put', 'why', 'somehow', 'us', 'full', 'its', 'call', 'our', 'herein', 'n‘t', 'nine', 'every', 'at', 'could', 'myself', 'moreover', 'become', 'from', 'when', 'top', 'by', 'few', 'whose', 'about', 'move', 'thru', 'behind', 'part', 'an', 'per', 'somewhere', 'least', 'off', 'should', 'whereas', 'next', 'each', 'them', 'everywhere', 'seeming', 'such', 'twenty', 'front', 'both', 'four', 'beside', 'enough', 'which', 'ca', 'will', 'namely', 'all', 'anyhow', 'not', 'used', 'make', 'meanwhile', 'the', 'across', 'whom', 'well', \"'ve\", 'first', 'same', 'sometimes', 'these', 'elsewhere', 're', 'your', 'those', 'back', 'very', 'hence', 'another', 'whatever', 'often', 'last', 'cannot', 'nor', 'still', 'sixty', 'whereby', 'everything', 'name', 'of', 'empty', 'latterly', 'so', 'is', 'take', 'noone', 'forty', 'we', 'yourself', '’re', 'less', 'between', 'before', 'whoever', 'here', 'also', \"'ll\", 'up', 'be', 'amongst', 'done', 'ourselves', 'there', 'formerly', 'under', 'own', 'on', 'who', 'twelve', 'although', '‘ll', 'does', 'only', 'becoming', 'quite', 'n’t', 'since', 'third', 'unless', 'through', 'must', 'towards', 'several', 'however', 'anything', 'has', 'everyone', 'in', 'during', 'except', 'throughout', 'over', 'then', 'into', 'anyway', 'someone', \"'s\", 'are', 'with', 'either', 'you', 'seemed', 'this', 'without', 'never', 'together', 'therein', 'seems', \"'m\", 'whether', 'side', 'might', 'nothing', 'until', 'latter', 'whereafter', '‘ve', '’s', 'again', 'else', 'hers', 'further', 'if', 'for', 'six', 'may', 'he', 'eleven', 'thereby', 'his', 'yet', 'get', 'mine', '‘s', 'therefore', '’ll', 'hereupon', 'i', 'afterwards', 'am', 'or', 'though', 'any', 'but', 'whole', 'to', 'and', 'something', 'while', 'various', 'wherever', 'had', 'doing', 'out', 'others', 'much', 'ours', '‘d', 'bottom', 'after', 'where', '‘m', 'almost', 'her', 'below', 'along', 'one', 'their', 'within', 'two', 'perhaps', 'down', 'alone', 'have', 'see', '‘re', 'anywhere', 'thereupon', 'onto', 'themselves', 'please', 'itself', 'me', 'give', 'too', 'always', 'been', 'whither', 'beyond', 'really', 'a', 'herself', 'go', 'were', 'did', 'nevertheless', 'above', 'via', 'hundred', 'most', 'than', 'eight', 'five', 'already', 'keep', \"'d\", 'now', 'would', 'they', 'yourselves', 'my', 'nobody', 'indeed', 'fifty', 'made', 'seem', 'thus', 'thence', 'say', \"'re\", 'ten', 'what', 'rather', 'she', 'even', 'anyone', 'neither', 'mostly', 'can', 'being', 'yours', 'hereby', 'three', 'became', '’d', 'ever', 'more', 'show', 'among', \"n't\", 'around', 'it', 'himself', 'regarding', 'against', 'whenever', 'once', 'beforehand', 'using', 'him', 'do', 'upon', 'no', 'none', '’ve', 'amount', 'because', 'former', 'otherwise', 'some', 'thereafter', 'nowhere', 'whereupon', 'hereafter', '’m', 'wherein', 'how', 'due', 'fifteen', 'many', 'becomes', 'that', 'sometime', 'toward', 'other', 'as', 'was'}\n"
     ]
    },
    {
     "data": {
      "text/plain": [
       "326"
      ]
     },
     "execution_count": 4,
     "metadata": {},
     "output_type": "execute_result"
    }
   ],
   "source": [
    "print(nlp.Defaults.stop_words)\n",
    "len(nlp.Defaults.stop_words)"
   ]
  },
  {
   "cell_type": "code",
   "execution_count": 5,
   "metadata": {},
   "outputs": [
    {
     "data": {
      "text/plain": [
       "True"
      ]
     },
     "execution_count": 5,
     "metadata": {},
     "output_type": "execute_result"
    }
   ],
   "source": [
    "nlp.vocab['is'].is_stop"
   ]
  },
  {
   "cell_type": "code",
   "execution_count": 6,
   "metadata": {},
   "outputs": [],
   "source": [
    "# Adding user defined stop words to the default set\n",
    "nlp.Defaults.stop_words.add('btw')\n",
    "nlp.vocab['btw'].is_stop = True"
   ]
  },
  {
   "cell_type": "code",
   "execution_count": 7,
   "metadata": {},
   "outputs": [],
   "source": [
    "# Removing from the default stop words \n",
    "nlp.Defaults.stop_words.remove('btw')\n",
    "nlp.vocab['btw'].is_stop = False"
   ]
  },
  {
   "cell_type": "code",
   "execution_count": 8,
   "metadata": {},
   "outputs": [],
   "source": [
    "nlp2 = spacy.load('en_core_web_lg')"
   ]
  },
  {
   "cell_type": "code",
   "execution_count": 12,
   "metadata": {},
   "outputs": [
    {
     "data": {
      "text/plain": [
       "326"
      ]
     },
     "execution_count": 12,
     "metadata": {},
     "output_type": "execute_result"
    }
   ],
   "source": [
    "# The number of stop words are same for both loader\n",
    "len(nlp2.Defaults.stop_words)"
   ]
  },
  {
   "cell_type": "code",
   "execution_count": null,
   "metadata": {},
   "outputs": [],
   "source": []
  }
 ],
 "metadata": {
  "kernelspec": {
   "display_name": "Python 3",
   "language": "python",
   "name": "python3"
  },
  "language_info": {
   "codemirror_mode": {
    "name": "ipython",
    "version": 3
   },
   "file_extension": ".py",
   "mimetype": "text/x-python",
   "name": "python",
   "nbconvert_exporter": "python",
   "pygments_lexer": "ipython3",
   "version": "3.7.3"
  }
 },
 "nbformat": 4,
 "nbformat_minor": 2
}
