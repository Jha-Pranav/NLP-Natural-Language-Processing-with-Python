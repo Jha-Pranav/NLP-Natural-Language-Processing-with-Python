{
 "cells": [
  {
   "cell_type": "code",
   "execution_count": 1,
   "metadata": {},
   "outputs": [],
   "source": [
    "import spacy"
   ]
  },
  {
   "cell_type": "code",
   "execution_count": 2,
   "metadata": {},
   "outputs": [],
   "source": [
    "nlp = spacy.load('en_core_web_sm')"
   ]
  },
  {
   "cell_type": "code",
   "execution_count": 3,
   "metadata": {},
   "outputs": [],
   "source": [
    "doc = nlp(u\"I am a runner running in the race because I love to run since I ran today\")"
   ]
  },
  {
   "cell_type": "code",
   "execution_count": 10,
   "metadata": {},
   "outputs": [
    {
     "name": "stdout",
     "output_type": "stream",
     "text": [
      "I           PRON   561228191312463089            -PRON- \n",
      "am          VERB   10382539506755952630          be     \n",
      "a           DET    11901859001352538922          a      \n",
      "runner      NOUN   12640964157389618806          runner \n",
      "running     VERB   12767647472892411841          run    \n",
      "in          ADP    3002984154512732771           in     \n",
      "the         DET    7425985699627899538           the    \n",
      "race        NOUN   8048469955494714898           race   \n",
      "because     ADP    16950148841647037698          because\n",
      "I           PRON   561228191312463089            -PRON- \n",
      "love        VERB   3702023516439754181           love   \n",
      "to          PART   3791531372978436496           to     \n",
      "run         VERB   12767647472892411841          run    \n",
      "since       ADP    10066841407251338481          since  \n",
      "I           PRON   561228191312463089            -PRON- \n",
      "ran         VERB   12767647472892411841          run    \n",
      "today       NOUN   11042482332948150395          today  \n"
     ]
    }
   ],
   "source": [
    "for token in doc:\n",
    "    print(f\"{token.text:{12}}{token.pos_:{7}}{token.lemma:<{30}}{token.lemma_:<{7}}\")"
   ]
  },
  {
   "cell_type": "code",
   "execution_count": null,
   "metadata": {},
   "outputs": [],
   "source": []
  }
 ],
 "metadata": {
  "kernelspec": {
   "display_name": "Python 3",
   "language": "python",
   "name": "python3"
  },
  "language_info": {
   "codemirror_mode": {
    "name": "ipython",
    "version": 3
   },
   "file_extension": ".py",
   "mimetype": "text/x-python",
   "name": "python",
   "nbconvert_exporter": "python",
   "pygments_lexer": "ipython3",
   "version": "3.7.3"
  }
 },
 "nbformat": 4,
 "nbformat_minor": 2
}
