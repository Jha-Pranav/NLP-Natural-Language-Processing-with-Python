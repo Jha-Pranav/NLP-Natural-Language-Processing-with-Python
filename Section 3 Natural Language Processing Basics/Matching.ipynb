{
 "cells": [
  {
   "cell_type": "code",
   "execution_count": 69,
   "metadata": {},
   "outputs": [],
   "source": [
    "import spacy"
   ]
  },
  {
   "cell_type": "code",
   "execution_count": 70,
   "metadata": {},
   "outputs": [],
   "source": [
    "nlp = spacy.load('en_core_web_sm')"
   ]
  },
  {
   "cell_type": "code",
   "execution_count": 85,
   "metadata": {},
   "outputs": [],
   "source": [
    "# Rule base matching\n",
    "from spacy.matcher import Matcher\n"
   ]
  },
  {
   "cell_type": "code",
   "execution_count": 86,
   "metadata": {},
   "outputs": [],
   "source": [
    "matcher = Matcher(nlp.vocab)"
   ]
  },
  {
   "cell_type": "code",
   "execution_count": 87,
   "metadata": {},
   "outputs": [],
   "source": [
    "doc = nlp(u'SolarPower industry continues to grow as solar-power increas. Solar power is awsome. Yeah! Solar---Power')\n"
   ]
  },
  {
   "cell_type": "code",
   "execution_count": 88,
   "metadata": {},
   "outputs": [],
   "source": [
    "# SolarPower\n",
    "# solar-power\n",
    "# solar power\n",
    "pattern1 = [{'LOWER':\"solarpower\"}]\n",
    "pattern2 = [{'LOWER':\"solar\"},{'IS_PUNCT':True,'OP':'*'},{'LOWER':\"power\"}]\n",
    "pattern3 = [{'LOWER':\"solar\"},{'LOWER':\"power\"}]"
   ]
  },
  {
   "cell_type": "code",
   "execution_count": 89,
   "metadata": {},
   "outputs": [],
   "source": [
    "matcher.add('Pranav',None,pattern1,pattern2,pattern3)\n",
    "found_match = matcher(doc)"
   ]
  },
  {
   "cell_type": "code",
   "execution_count": 90,
   "metadata": {},
   "outputs": [
    {
     "name": "stdout",
     "output_type": "stream",
     "text": [
      "[(5517069998068639860, 0, 1), (5517069998068639860, 6, 9), (5517069998068639860, 11, 13), (5517069998068639860, 18, 21)]\n"
     ]
    }
   ],
   "source": [
    "print(found_match)"
   ]
  },
  {
   "cell_type": "code",
   "execution_count": 91,
   "metadata": {},
   "outputs": [
    {
     "name": "stdout",
     "output_type": "stream",
     "text": [
      "5517069998068639860 \t Pranav \t SolarPower\n",
      "5517069998068639860 \t Pranav \t solar-power\n",
      "5517069998068639860 \t Pranav \t Solar power\n",
      "5517069998068639860 \t Pranav \t Solar---Power\n"
     ]
    }
   ],
   "source": [
    "for match_id, start, end in found_match:\n",
    "    print(match_id,'\\t',nlp.vocab.strings[match_id],'\\t',doc[start:end])"
   ]
  },
  {
   "cell_type": "code",
   "execution_count": 81,
   "metadata": {},
   "outputs": [
    {
     "ename": "AttributeError",
     "evalue": "'spacy.matcher.phrasematcher.PhraseMatcher' object has no attribute 'remove'",
     "output_type": "error",
     "traceback": [
      "\u001b[1;31m---------------------------------------------------------------------------\u001b[0m",
      "\u001b[1;31mAttributeError\u001b[0m                            Traceback (most recent call last)",
      "\u001b[1;32m<ipython-input-81-73882359cd1a>\u001b[0m in \u001b[0;36m<module>\u001b[1;34m\u001b[0m\n\u001b[1;32m----> 1\u001b[1;33m \u001b[0mmatcher\u001b[0m\u001b[1;33m.\u001b[0m\u001b[0mremove\u001b[0m\u001b[1;33m(\u001b[0m\u001b[1;34m'Solar'\u001b[0m\u001b[1;33m)\u001b[0m\u001b[1;33m\u001b[0m\u001b[1;33m\u001b[0m\u001b[0m\n\u001b[0m",
      "\u001b[1;31mAttributeError\u001b[0m: 'spacy.matcher.phrasematcher.PhraseMatcher' object has no attribute 'remove'"
     ]
    }
   ],
   "source": [
    "matcher.remove('Solar')"
   ]
  },
  {
   "cell_type": "markdown",
   "metadata": {},
   "source": []
  },
  {
   "cell_type": "code",
   "execution_count": 50,
   "metadata": {},
   "outputs": [],
   "source": [
    "from spacy.matcher import PhraseMatcher"
   ]
  },
  {
   "cell_type": "code",
   "execution_count": 51,
   "metadata": {},
   "outputs": [],
   "source": [
    "matcher = PhraseMatcher(nlp.vocab)"
   ]
  },
  {
   "cell_type": "code",
   "execution_count": 52,
   "metadata": {},
   "outputs": [],
   "source": [
    "with open('God Of small things.txt') as f:\n",
    "    doc3 = nlp(f.read())"
   ]
  },
  {
   "cell_type": "code",
   "execution_count": 53,
   "metadata": {},
   "outputs": [
    {
     "data": {
      "text/plain": [
       "Arundhati Roy\n",
       "The God of Small Things\n",
       "Arundhati Roy\n",
       "God of Small Things\n",
       "Chapter 1.\n",
       "Paradise Pickles & Preserves\n",
       "May in Ayemenem is a hot, brooding month. The days are long and humid. The\n",
       "river shrinks and black crows gorge on bright mangoes in still, dustgreen trees. Red\n",
       "bananas ripen. Jackfruits burst. Dissolute bluebottles hum vacuously in the fruity\n",
       "air. Then they stun themselves against clear windowpanes and die, fatly baffled in\n",
       "the sun.\n",
       "The nights are clear, but suffused with sloth and sullen expectation.\n",
       "But by early June the southwest monsoon breaks and there are three months of\n",
       "wind and water with short spells of sharp, glittering sunshine that thrilled children\n",
       "snatch to play with. The countryside turns an immodest green. Boundaries blur as\n",
       "tapioca fences take root and bloom. Brick walls turn moss green. Pepper vines\n",
       "snake up electric poles. Wild creepers burst through laterite banks and spill across\n",
       "flooded roads. Boats ply in the bazaars. And small fish appear in the puddles that\n",
       "fill the PWD potholes on the highways.\n",
       "It was raining when Rahel came back to Ayemenem. Slanting silver ropes\n",
       "slammed into loose earth, plowing it up like gunfire. The old house on the hill wore\n",
       "its steep, gabled roof pulled over its ears like a low hat. The walls, streaked with\n",
       "moss, had grown soft, and bulged a little with dampness that seeped up from the\n",
       "ground. The wild, overgrown garden was full of the whisper and scurry of small\n",
       "lives. In the undergrowth a rat snake rubbed itself against a glistening stone.\n",
       "Hopeful yellow bullfrogs cruised the scummy pond for mates. A drenched\n",
       "mongoose flashed across the leaf-strewn driveway.\n",
       "The house itself looked empty. The doors and windows were locked. The front\n",
       "verandah bare. Unfurnished. But the skyblue Plymouth with chrome tailfins was still\n",
       "parked outside, and inside, Baby Kochamma was still alive.\n",
       "She was Rahelâ€™s baby grandaunt, her grandfatherâ€™s younger sister. Her name\n",
       "was really Navomi, Navomi Ipe, but everybody called her Baby. She became Baby\n",
       "Kochamma when she was old enough to be an aunt. Rahel hadnâ€™t come to see\n",
       "her, though. Neither niece nor baby grandaunt labored under any illusions on that\n",
       "account. Rahel had come to see her brother, Estha. They were two-egg twins.\n",
       " doctors called them. Born from separate but simultaneously fertilized\n",
       "eggs. Esthaâ€“Esthappen was the older by eighteen minutes.\n",
       "They never did look much like each other, Estha and Rahel, and even when they"
      ]
     },
     "execution_count": 53,
     "metadata": {},
     "output_type": "execute_result"
    }
   ],
   "source": [
    "doc3"
   ]
  },
  {
   "cell_type": "code",
   "execution_count": 57,
   "metadata": {},
   "outputs": [
    {
     "data": {
      "text/plain": [
       "spacy.tokens.doc.Doc"
      ]
     },
     "execution_count": 57,
     "metadata": {},
     "output_type": "execute_result"
    }
   ],
   "source": [
    "phrases = ['scummy pond for mates','simultaneously fertilized','leaf-strewn','low hat','dustgreen trees']\n",
    "phrases_list = [nlp(doc) for doc in phrases]  # TypeError: Cannot convert str to spacy.tokens.doc.Doc\n",
    "type(phrases_list[0])"
   ]
  },
  {
   "cell_type": "code",
   "execution_count": 65,
   "metadata": {},
   "outputs": [],
   "source": [
    "matcher.add('for',None,*phrases_list)\n",
    "found_match = matcher(doc3)"
   ]
  },
  {
   "cell_type": "code",
   "execution_count": 66,
   "metadata": {},
   "outputs": [
    {
     "data": {
      "text/plain": [
       "[(16037325823156266367, 57, 59),\n",
       " (16037325823156266367, 258, 260),\n",
       " (16037325823156266367, 323, 327),\n",
       " (16037325823156266367, 335, 338),\n",
       " (16037325823156266367, 483, 485)]"
      ]
     },
     "execution_count": 66,
     "metadata": {},
     "output_type": "execute_result"
    }
   ],
   "source": [
    "found_match"
   ]
  },
  {
   "cell_type": "code",
   "execution_count": 68,
   "metadata": {},
   "outputs": [
    {
     "name": "stdout",
     "output_type": "stream",
     "text": [
      "16037325823156266367 \t for \t dustgreen trees\n",
      "16037325823156266367 \t for \t low hat\n",
      "16037325823156266367 \t for \t scummy pond for mates\n",
      "16037325823156266367 \t for \t leaf-strewn\n",
      "16037325823156266367 \t for \t simultaneously fertilized\n"
     ]
    }
   ],
   "source": [
    "for match_id, start, end in found_match:\n",
    "    print(match_id,'\\t',nlp.vocab.strings[match_id],'\\t',doc3[start:end])"
   ]
  },
  {
   "cell_type": "code",
   "execution_count": null,
   "metadata": {},
   "outputs": [],
   "source": []
  }
 ],
 "metadata": {
  "kernelspec": {
   "display_name": "Python 3",
   "language": "python",
   "name": "python3"
  },
  "language_info": {
   "codemirror_mode": {
    "name": "ipython",
    "version": 3
   },
   "file_extension": ".py",
   "mimetype": "text/x-python",
   "name": "python",
   "nbconvert_exporter": "python",
   "pygments_lexer": "ipython3",
   "version": "3.7.3"
  }
 },
 "nbformat": 4,
 "nbformat_minor": 2
}
