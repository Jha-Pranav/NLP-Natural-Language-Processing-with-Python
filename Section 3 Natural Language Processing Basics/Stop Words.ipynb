{
 "cells": [
  {
   "cell_type": "code",
   "execution_count": 2,
   "metadata": {},
   "outputs": [],
   "source": [
    "# The words like \"a\" , \"the\" are stop words"
   ]
  },
  {
   "cell_type": "code",
   "execution_count": 3,
   "metadata": {},
   "outputs": [],
   "source": [
    "import spacy"
   ]
  },
  {
   "cell_type": "code",
   "execution_count": 4,
   "metadata": {},
   "outputs": [],
   "source": [
    "nlp = spacy.load('en_core_web_sm')"
   ]
  },
  {
   "cell_type": "code",
   "execution_count": 6,
   "metadata": {},
   "outputs": [
    {
     "name": "stdout",
     "output_type": "stream",
     "text": [
      "{'five', 'always', 'less', 'meanwhile', 'else', 'behind', 'seeming', 'how', 'otherwise', 'she', 'four', 'too', 'at', 'down', 'this', 'could', 'an', 'from', \"'s\", 'before', 'whence', 'take', 'twelve', 'afterwards', 'fifty', 'thru', 'as', 'here', 'during', 'became', 'once', 'ours', 'ever', 'show', 'next', 'can', 'thereafter', 'my', 'who', 'because', 'still', \"n't\", 'besides', 'through', 'many', 'ourselves', 'very', 'few', 'nothing', '‘m', 'hers', 'whereafter', 'amongst', 'their', 'anyway', 'do', 'whither', 'they', 'herself', 'full', 'you', '‘ll', 'in', 'these', 'such', 'neither', 'on', 'regarding', 'even', 'mostly', 'whereby', 'after', 'perhaps', 'n’t', 'been', 'rather', 'empty', 'only', 'further', 'say', 'enough', 'moreover', 'seem', 'almost', 'wherever', 'together', 'per', 'does', 'elsewhere', 'whereupon', 'along', 'throughout', 'via', 'to', 'nobody', 'now', 'myself', 'several', 'where', 'us', 'back', 'each', 'often', 'anywhere', 'within', '‘s', 'fifteen', 'thus', '’d', 'however', 'six', 'eleven', 'may', 'see', 'toward', 'doing', 'no', 'using', 'every', 'yourself', 'among', 'while', 'hereupon', 'due', 'others', 'or', 'none', \"'m\", 'call', 'whoever', 'and', 'nor', 'somewhere', 'he', 'wherein', 'again', 'forty', 'all', 'when', 'across', 'has', 'own', 'hundred', 'just', 'any', 'latter', 'serious', 'into', 'its', 'bottom', 'ca', 'yourselves', 'latterly', 'thereby', 'same', \"'ll\", 'whenever', 'so', 'nevertheless', '’re', 'name', 'then', 'without', 'everyone', 'below', 'her', 'being', 'hence', 'his', 'another', 'top', 'n‘t', 'one', 'why', 'whatever', 'please', 'thereupon', 'a', 'move', 'towards', 'cannot', 'something', 'hereafter', 'himself', 'except', 'give', 'might', 'anyhow', '’s', 'amount', 'beside', 'front', 'them', 'three', 're', 'alone', 'if', 'are', 'above', 'never', 'yours', 'ten', 'becomes', 'becoming', 'beyond', 'yet', 'not', 'since', 'anything', 'anyone', 'whose', 'keep', 'is', 'namely', 'between', '’ll', 'although', 'third', 'him', 'whole', 'our', 'twenty', 'about', 'which', 'seemed', 'some', 'that', 'those', 'upon', \"'ve\", 'had', 'side', 'eight', 'than', 'part', 'quite', 'well', 'former', 'put', 'unless', 'what', 'would', 'everywhere', 'already', 'nowhere', '’ve', 'much', 'against', 'whether', 'whereas', 'herein', 'itself', 'various', 'more', 'both', 'but', 'least', 'over', 'whom', 'really', '‘d', 'of', 'go', 'must', 'were', 'sometime', 'until', 'up', 'under', '‘ve', 'somehow', 'should', 'become', 'it', 'first', 'with', 'thence', 'someone', 'done', 'seems', 'nine', 'onto', '’m', 'last', 'either', 'off', 'make', 'around', 'beforehand', 'sometimes', 'also', 'formerly', 'therein', 'out', 'though', 'everything', 'we', 'i', 'me', 'most', 'used', 'by', 'your', 'mine', 'sixty', 'am', 'the', 'other', 'did', 'hereby', 'be', 'was', 'get', 'will', 'made', 'therefore', 'there', 'two', 'indeed', 'have', 'for', 'themselves', 'noone', \"'re\", '‘re', \"'d\"}\n"
     ]
    },
    {
     "data": {
      "text/plain": [
       "326"
      ]
     },
     "execution_count": 6,
     "metadata": {},
     "output_type": "execute_result"
    }
   ],
   "source": [
    "print(nlp.Defaults.stop_words)\n",
    "len(nlp.Defaults.stop_words)"
   ]
  },
  {
   "cell_type": "code",
   "execution_count": 7,
   "metadata": {},
   "outputs": [
    {
     "data": {
      "text/plain": [
       "True"
      ]
     },
     "execution_count": 7,
     "metadata": {},
     "output_type": "execute_result"
    }
   ],
   "source": [
    "nlp.vocab['is'].is_stop"
   ]
  },
  {
   "cell_type": "code",
   "execution_count": 12,
   "metadata": {},
   "outputs": [],
   "source": [
    "# Adding use defined stop words to the default set\n",
    "nlp.Defaults.stop_words.add('btw')\n",
    "nlp.vocab['btw'].is_stop = True"
   ]
  },
  {
   "cell_type": "code",
   "execution_count": 13,
   "metadata": {},
   "outputs": [],
   "source": [
    "# Removing from the default stop words \n",
    "nlp.Defaults.stop_words.remove('btw')\n",
    "nlp.vocab['btw'].is_stop = False"
   ]
  },
  {
   "cell_type": "code",
   "execution_count": null,
   "metadata": {},
   "outputs": [],
   "source": []
  }
 ],
 "metadata": {
  "kernelspec": {
   "display_name": "Python 3",
   "language": "python",
   "name": "python3"
  },
  "language_info": {
   "codemirror_mode": {
    "name": "ipython",
    "version": 3
   },
   "file_extension": ".py",
   "mimetype": "text/x-python",
   "name": "python",
   "nbconvert_exporter": "python",
   "pygments_lexer": "ipython3",
   "version": "3.7.3"
  }
 },
 "nbformat": 4,
 "nbformat_minor": 2
}
